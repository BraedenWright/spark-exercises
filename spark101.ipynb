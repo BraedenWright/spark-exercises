{
 "cells": [
  {
   "cell_type": "markdown",
   "id": "0a587c2d",
   "metadata": {},
   "source": [
    "# Imports"
   ]
  },
  {
   "cell_type": "code",
   "execution_count": 1,
   "id": "30613519",
   "metadata": {},
   "outputs": [],
   "source": [
    "import numpy as np\n",
    "import pandas as pd\n",
    "import pyspark\n"
   ]
  },
  {
   "cell_type": "markdown",
   "id": "d1eac0e2",
   "metadata": {},
   "source": [
    "## Exercise 1\n",
    "\n",
    "\n",
    "**Create a spark data frame that contains your favorite programming languages.**\n",
    "\n",
    "   - The name of the column should be language\n",
    "   - View the schema of the dataframe\n",
    "   - Output the shape of the dataframe\n",
    "   - Show the first 5 records in the dataframe\n",
    "\n"
   ]
  },
  {
   "cell_type": "code",
   "execution_count": null,
   "id": "b60baab0",
   "metadata": {},
   "outputs": [],
   "source": []
  },
  {
   "cell_type": "code",
   "execution_count": null,
   "id": "195d1af4",
   "metadata": {},
   "outputs": [],
   "source": []
  },
  {
   "cell_type": "code",
   "execution_count": null,
   "id": "6968495c",
   "metadata": {},
   "outputs": [],
   "source": []
  },
  {
   "cell_type": "code",
   "execution_count": null,
   "id": "3d708a3c",
   "metadata": {},
   "outputs": [],
   "source": []
  },
  {
   "cell_type": "markdown",
   "id": "0c7b0c8b",
   "metadata": {},
   "source": [
    "## Exercise 2\n",
    "\n",
    "**Load the mpg dataset as a spark dataframe.**\n",
    "\n",
    "   - For each vehicle, create 1 column of output that contains a message like the one below:\n",
    "\n",
    "            The 1999 audi a4 has a 4 cylinder engine.\n",
    "\n",
    "   - Transform the trans column so that it only contains either manual or auto.\n"
   ]
  },
  {
   "cell_type": "code",
   "execution_count": null,
   "id": "5dcf1951",
   "metadata": {},
   "outputs": [],
   "source": []
  },
  {
   "cell_type": "code",
   "execution_count": null,
   "id": "14a438ca",
   "metadata": {},
   "outputs": [],
   "source": []
  },
  {
   "cell_type": "code",
   "execution_count": null,
   "id": "27364cc0",
   "metadata": {},
   "outputs": [],
   "source": []
  },
  {
   "cell_type": "code",
   "execution_count": null,
   "id": "6d86143c",
   "metadata": {},
   "outputs": [],
   "source": []
  },
  {
   "cell_type": "markdown",
   "id": "7071d037",
   "metadata": {},
   "source": [
    "## Exercise 3\n",
    "\n",
    "\n",
    "Load the tips dataset as a spark dataframe.\n",
    "\n",
    "   - What percentage of observations are smokers?\n",
    "   - Create a column that contains the tip percentage\n",
    "   - Calculate the average tip percentage for each combination of sex and smoker.\n",
    "\n"
   ]
  },
  {
   "cell_type": "code",
   "execution_count": null,
   "id": "95e921b1",
   "metadata": {},
   "outputs": [],
   "source": []
  },
  {
   "cell_type": "code",
   "execution_count": null,
   "id": "16243df7",
   "metadata": {},
   "outputs": [],
   "source": []
  },
  {
   "cell_type": "code",
   "execution_count": null,
   "id": "f196dc74",
   "metadata": {},
   "outputs": [],
   "source": []
  },
  {
   "cell_type": "code",
   "execution_count": null,
   "id": "fae610bc",
   "metadata": {},
   "outputs": [],
   "source": []
  },
  {
   "cell_type": "markdown",
   "id": "25516cbe",
   "metadata": {},
   "source": [
    "## Execise 4\n",
    "\n",
    "\n",
    "**Use the seattle weather dataset referenced in the lesson to answer the questions below.**\n",
    "\n",
    "   - Convert the temperatures to fahrenheit.\n",
    "   - Which month has the most rain, on average?\n",
    "   - Which year was the windiest?\n",
    "   - What is the most frequent type of weather in January?\n",
    "   - What is the average high and low temperature on sunny days in July in 2013 and 2014?\n",
    "   - What percentage of days were rainy in q3 of 2015?\n",
    "   - For each year, find what percentage of days it rained (had non-zero precipitation).\n",
    "\n"
   ]
  },
  {
   "cell_type": "code",
   "execution_count": null,
   "id": "067f0f7e",
   "metadata": {},
   "outputs": [],
   "source": []
  }
 ],
 "metadata": {
  "kernelspec": {
   "display_name": "Python 3 (ipykernel)",
   "language": "python",
   "name": "python3"
  },
  "language_info": {
   "codemirror_mode": {
    "name": "ipython",
    "version": 3
   },
   "file_extension": ".py",
   "mimetype": "text/x-python",
   "name": "python",
   "nbconvert_exporter": "python",
   "pygments_lexer": "ipython3",
   "version": "3.9.7"
  }
 },
 "nbformat": 4,
 "nbformat_minor": 5
}
